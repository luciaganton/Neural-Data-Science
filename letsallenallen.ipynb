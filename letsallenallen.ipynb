{
 "cells": [
  {
   "cell_type": "code",
   "execution_count": 13,
   "id": "0c5f4619",
   "metadata": {},
   "outputs": [
    {
     "data": {
      "text/plain": [
       "{'t_shape': (105968,),\n",
       " 'dff_shape': (189, 105968),\n",
       " 'stim_table_shape': (8880, 3),\n",
       " 'stim_shape': (9000, 16, 28),\n",
       " 'roi_masks_shape': (189, 512, 512),\n",
       " 'max_projection_shape': (512, 512),\n",
       " 'running_speed_shape': (2, 105968),\n",
       " 'stim_epoch_table_shape': (7, 3),\n",
       " 'spike_traces_shape': (189, 105968)}"
      ]
     },
     "execution_count": 13,
     "metadata": {},
     "output_type": "execute_result"
    }
   ],
   "source": [
    "import numpy as np\n",
    "import pandas as pd\n",
    "import matplotlib.pyplot as plt\n",
    "import scipy.ndimage\n",
    "from scipy.stats import chi2_contingency\n",
    "from sklearn.mixture import GaussianMixture\n",
    "from scipy.ndimage import gaussian_filter\n",
    "\n",
    "# Load the dataset\n",
    "data = np.load('dff_data_rf.npz', allow_pickle=True)\n",
    "spike_data = np.load('OASIS_spikes.npz', allow_pickle=True)\n",
    "\n",
    "t = data['t']                    # (105968,)\n",
    "dff = data['dff']                # (189, 105968)\n",
    "stim_table = pd.DataFrame(data['stim_table'])  # (8880, 3)\n",
    "stim_table.columns = ['frame', 'start', 'end']\n",
    "stim = data['stim']             # (9000, 16, 28)\n",
    "roi_masks = data['roi_masks']   # (189, 512, 512)\n",
    "max_projection = data['max_projection']  # (512, 512)\n",
    "running_speed = data['running_speed']    # (2, 105968)\n",
    "stim_epoch_table = pd.DataFrame(data['stim_epoch_table'])  # (7, 3)\n",
    "spike_traces = spike_data['spike_likelihoods']\n",
    "\n",
    "# Basic checks\n",
    "summary = {\n",
    "    \"t_shape\": t.shape,\n",
    "    \"dff_shape\": dff.shape,\n",
    "    \"stim_table_shape\": stim_table.shape,\n",
    "    \"stim_shape\": stim.shape,\n",
    "    \"roi_masks_shape\": roi_masks.shape,\n",
    "    \"max_projection_shape\": max_projection.shape,\n",
    "    \"running_speed_shape\": running_speed.shape,\n",
    "    \"stim_epoch_table_shape\": stim_epoch_table.shape,\n",
    "    \"spike_traces_shape\": spike_traces.shape\n",
    "}\n",
    "\n",
    "summary"
   ]
  },
  {
   "cell_type": "code",
   "execution_count": 14,
   "id": "8ca361d5",
   "metadata": {},
   "outputs": [
    {
     "name": "stdout",
     "output_type": "stream",
     "text": [
      "Cell 114 events detected: 367 out of 8880 trials\n"
     ]
    }
   ],
   "source": [
    "import numpy as np\n",
    "import pandas as pd\n",
    "\n",
    "# Select a cell of interest by index (choose one with a clear receptive field)\n",
    "cell_index = 114  # example cell index with many events\n",
    "\n",
    "# Initialize event vector for each stimulus trial\n",
    "event_vector = np.zeros(len(stim_table), dtype=bool)\n",
    "\n",
    "# Use provided deconvolved spike events if available; otherwise detect events from dF/F trace\n",
    "if 'events' in data:\n",
    "    events_trace = data['events']  # deconvolved events array (cells x time) if provided\n",
    "    # Mark trials where any event occurred during that trial's window\n",
    "    for i, (start_idx, end_idx) in enumerate(stim_table[['start','end']].itertuples(index=False)):\n",
    "        if np.any(events_trace[cell_index, int(start_idx):int(end_idx)+1] > 0):\n",
    "            event_vector[i] = True\n",
    "    event_trace_available = True\n",
    "else:\n",
    "    event_trace_available = False\n",
    "    trace = dff[cell_index]  # dF/F trace for the cell\n",
    "    # Smooth the trace with a moving average to reduce noise\n",
    "    window = 5\n",
    "    kernel = np.ones(window) / window\n",
    "    smooth_trace = np.convolve(trace, kernel, mode='same')\n",
    "\n",
    "    # Parameters for event detection window (frames relative to stimulus onset)\n",
    "    k_min, k_max, delta = 0, 10, 3\n",
    "    xx_list, yy_list = [], []\n",
    "    var_dict = {}\n",
    "    # Loop over each stimulus presentation (trial) to extract features\n",
    "    for i, (start_idx, end_idx) in enumerate(stim_table[['start','end']].itertuples(index=False)):\n",
    "        # If this trial starts immediately after previous trial ended, skip one frame to avoid overlap\n",
    "        offset = 1 if i > 0 and stim_table.iloc[i].start == stim_table.iloc[i-1].end else 0\n",
    "        # Define analysis window: frames [start+1+offset : start+10+offset]\n",
    "        beg = int(start_idx + 1 + offset)\n",
    "        endw = int(start_idx + k_max + 1 + offset)\n",
    "        if endw > len(smooth_trace):  # skip if window exceeds trace length\n",
    "            continue\n",
    "        segment = smooth_trace[beg:endw]  # 10-frame segment after stimulus onset\n",
    "        if len(segment) < k_max:\n",
    "            continue\n",
    "        # Compute relative fluorescence change within this window\n",
    "        segment = segment - segment[0]            # subtract baseline at window start\n",
    "        xx = segment[delta] - segment[0]          # early change (after 3 frames)\n",
    "        yy = max(segment[delta+2] - segment[2],   # later peak change (max of frames delta+2 to delta+4 vs baseline)\n",
    "                 segment[delta+3] - segment[3],\n",
    "                 segment[delta+4] - segment[4])\n",
    "        t0_val = segment[0]\n",
    "        tf_val = segment[-1]\n",
    "        xx_list.append(xx); yy_list.append(yy)\n",
    "        var_dict[i] = (t0_val, tf_val, xx, yy)\n",
    "    # Compute robust center (median) and spread of feature space (xx vs yy)\n",
    "    xx_arr = np.array(xx_list); yy_arr = np.array(yy_list)\n",
    "    mu_x = np.median(xx_arr) if len(xx_arr) > 0 else 0.0\n",
    "    mu_y = np.median(yy_arr) if len(yy_arr) > 0 else 0.0\n",
    "    xx_cent = xx_arr - mu_x; yy_cent = yy_arr - mu_y\n",
    "    std_x = np.percentile(np.abs(xx_cent), 68.27) if len(xx_arr) > 0 else 1e-6  # robust std (1σ)\n",
    "    std_y = np.percentile(np.abs(yy_cent), 68.27) if len(yy_arr) > 0 else 1e-6\n",
    "    std_x = std_x if std_x > 0 else 1e-6\n",
    "    std_y = std_y if std_y > 0 else 1e-6\n",
    "    # Identify \"noise cluster\" of trials (within 4σ in feature space)\n",
    "    dist = np.sqrt((xx_cent/std_x)**2 + (yy_cent/std_y)**2)\n",
    "    noise_mask = dist < 4\n",
    "    # Compute noise covariance for Mahalanobis distance\n",
    "    if np.any(noise_mask):\n",
    "        Cov = np.cov(xx_cent[noise_mask], yy_cent[noise_mask])\n",
    "    else:\n",
    "        Cov = np.eye(2)\n",
    "    # Invert covariance matrix (robustly handle singular)\n",
    "    try:\n",
    "        cov_inv = np.linalg.inv(np.linalg.cholesky(Cov))\n",
    "    except np.linalg.LinAlgError:\n",
    "        cov_inv = np.eye(2)\n",
    "    # Determine noise threshold in original feature space (4σ away from center on either axis)\n",
    "    noise_threshold = max(4*std_x + mu_x, 4*std_y + mu_y)\n",
    "    # Classify each trial as event or non-event based on multiple criteria\n",
    "    for i, (t0_val, tf_val, xx, yy) in var_dict.items():\n",
    "        # Transform (xx, yy) into noise-whitened space\n",
    "        xi_z, yi_z = cov_inv.dot(np.array([xx - mu_x, yy - mu_y]))\n",
    "        # Mark as an event if:\n",
    "        # 1) Feature point is >4σ from noise cluster center,\n",
    "        # 2) There is a sufficient fluorescence rise (yy > 0.05),\n",
    "        # 3) The later change (yy) exceeds early change (xx) indicating an upward transient,\n",
    "        # 4) The end-of-window value is above half the noise threshold (signal doesn't return to baseline immediately).\n",
    "        if np.sqrt(xi_z**2 + yi_z**2) > 4 and yy > 0.05 and xx < yy and tf_val > noise_threshold/2:\n",
    "            event_vector[i] = True\n",
    "\n",
    "print(f\"Cell {cell_index} events detected: {event_vector.sum()} out of {len(event_vector)} trials\")"
   ]
  },
  {
   "cell_type": "code",
   "execution_count": 15,
   "id": "4a50bc23",
   "metadata": {},
   "outputs": [
    {
     "name": "stdout",
     "output_type": "stream",
     "text": [
      "RTS on-field shape: (16, 28)  RTS off-field shape: (16, 28)\n"
     ]
    }
   ],
   "source": [
    "# Build stimulus sequence and design matrices for analysis\n",
    "stim_frames = stim_table['frame'].values.astype(int)        # indices of stimulus frames presented\n",
    "stim_sequence = stim[stim_frames]                           # stimulus images for each trial (shape: trials x 16 x 28)\n",
    "on_mask = (stim_sequence > 127)   # True where pixel was white (ON stimulus) on each trial\n",
    "off_mask = (stim_sequence < 127)  # True where pixel was black (OFF stimulus) on each trial\n",
    "\n",
    "num_trials = len(stim_table)\n",
    "num_pixels = on_mask.shape[1] * on_mask.shape[2]  # e.g., 16*28 = 448 pixel positions\n",
    "# Flatten spatial dimensions for matrix operations (trials x pixels)\n",
    "flat_on = on_mask.reshape(num_trials, num_pixels).astype(float)\n",
    "flat_off = off_mask.reshape(num_trials, num_pixels).astype(float)\n",
    "\n",
    "# Compute response-triggered stimulus (RTS) field: count of events when each pixel was stimulated\n",
    "event_vector_float = event_vector.astype(float)  # convert boolean events to 0/1\n",
    "# Sum of events for each pixel when ON or OFF (dot product between trials and event occurrences)\n",
    "rts_on_flat = event_vector_float @ flat_on   # array of length num_pixels\n",
    "rts_off_flat = event_vector_float @ flat_off\n",
    "# Reshape back to spatial map (same shape as stimulus frames, e.g., 16x28)\n",
    "rts_on = rts_on_flat.reshape(stim_sequence.shape[1], stim_sequence.shape[2])\n",
    "rts_off = rts_off_flat.reshape(stim_sequence.shape[1], stim_sequence.shape[2])\n",
    "print(\"RTS on-field shape:\", rts_on.shape, \" RTS off-field shape:\", rts_off.shape)"
   ]
  },
  {
   "cell_type": "code",
   "execution_count": 16,
   "id": "a8435bdd",
   "metadata": {},
   "outputs": [
    {
     "name": "stdout",
     "output_type": "stream",
     "text": [
      "FDR corrected (alpha=0.5). Significant ON pixels: 9, OFF pixels: 21\n"
     ]
    }
   ],
   "source": [
    "from scipy.interpolate import RegularGridInterpolator\n",
    "from scipy.ndimage import gaussian_filter\n",
    "from skimage.measure import block_reduce\n",
    "\n",
    "def blur_field(img, sigma=4):\n",
    "    \"\"\"Blur an image via upsampling, Gaussian filtering, and downsampling, preserving total intensity.\"\"\"\n",
    "    if img.sum() == 0:\n",
    "        return img\n",
    "    H, W = img.shape\n",
    "    padded = np.zeros((3 * H, 3 * W))\n",
    "    padded[H:2*H, W:2*W] = img\n",
    "\n",
    "    # Upsampling factor (same as Allen SDK)\n",
    "    upsample = 4 if H == 16 else 8\n",
    "    offset = -(1 - (0.625 if upsample == 4 else 0.5625))\n",
    "\n",
    "    # Define interpolator\n",
    "    y = np.arange(padded.shape[0])\n",
    "    x = np.arange(padded.shape[1])\n",
    "    interp_func = RegularGridInterpolator((y, x), padded, method='linear', bounds_error=False, fill_value=0)\n",
    "\n",
    "    # Create upsampled grid\n",
    "    yy = offset + np.arange(0, padded.shape[0], 1.0 / upsample)\n",
    "    xx = offset + np.arange(0, padded.shape[1], 1.0 / upsample)\n",
    "    grid_y, grid_x = np.meshgrid(yy, xx, indexing='ij')\n",
    "    points = np.stack([grid_y.ravel(), grid_x.ravel()], axis=-1)\n",
    "    upsampled = interp_func(points).reshape(grid_y.shape)\n",
    "\n",
    "    # Apply Gaussian blur\n",
    "    filtered = gaussian_filter(upsampled, sigma=sigma, mode='constant')\n",
    "\n",
    "    # Downsample by summing blocks\n",
    "    reduced = block_reduce(filtered, (upsample, upsample), func=np.sum)\n",
    "\n",
    "    # Normalize energy\n",
    "    reduced *= img.sum() / (reduced.sum() + 1e-10)\n",
    "\n",
    "    # Crop back to original size\n",
    "    result = reduced[H:2*H, W:2*W]\n",
    "    return result\n",
    "\n",
    "\n",
    "# Compute blurred RTS fields for ON and OFF subfields\n",
    "rts_on_blur = blur_field(rts_on, sigma=4)\n",
    "rts_off_blur = blur_field(rts_off, sigma=4)\n",
    "\n",
    "# Monte Carlo shuffle to compute per-pixel p-values (probability of response by chance)\n",
    "num_shuffles = 10000\n",
    "number_of_events = int(event_vector.sum())\n",
    "# Concatenate ON and OFF design matrices (shape: 2*num_pixels x num_trials)\n",
    "A = np.vstack([flat_on.T, flat_off.T])  # first num_pixels rows for ON, next num_pixels for OFF\n",
    "actual_fraction = (A @ event_vector_float) / (number_of_events if number_of_events > 0 else 1)\n",
    "p_values = np.ones(A.shape[0])  # initialize count of extreme shuffles (start at 1 for continuity)\n",
    "if number_of_events > 0:\n",
    "    rng = np.arange(num_trials)\n",
    "    for i in range(num_shuffles):\n",
    "        # Randomly select a subset of trials as \"events\" under the null hypothesis\n",
    "        size = int(number_of_events + np.round(0.1 * number_of_events * np.random.randn()))\n",
    "        size = max(0, min(num_trials, size))\n",
    "        event_indices = np.random.choice(rng, size=size, replace=False)\n",
    "        b = np.zeros(num_trials, dtype=float); b[event_indices] = 1.0\n",
    "        frac = (A @ b) / (size if size > 0 else 1)\n",
    "        # Count if shuffle fraction is less than actual fraction (for one-tailed p-value)\n",
    "        p_values += (frac < actual_fraction)\n",
    "# Compute p-value as 1 - CDF (proportion of shuffles with fraction less than actual)\n",
    "p_values = 1 - p_values / float(num_shuffles)\n",
    "\n",
    "# Separate ON and OFF p-value maps\n",
    "pvalues_on = p_values[:num_pixels].reshape(stim_sequence.shape[1], stim_sequence.shape[2])\n",
    "pvalues_off = p_values[num_pixels:].reshape(stim_sequence.shape[1], stim_sequence.shape[2])\n",
    "\n",
    "# Apply False Discovery Rate (FDR) correction (Benjamini-Hochberg) to p-values\n",
    "from statsmodels.stats.multitest import multipletests\n",
    "alpha = 0.5  # using alpha=0.5 as in Allen SDK example for a lenient threshold\n",
    "mask, pvals_corrected, _, _ = multipletests(p_values, alpha=alpha, method='fdr_bh')\n",
    "fdr_mask_on = mask[:num_pixels].reshape(stim_sequence.shape[1], stim_sequence.shape[2])\n",
    "fdr_mask_off = mask[num_pixels:].reshape(stim_sequence.shape[1], stim_sequence.shape[2])\n",
    "print(f\"FDR corrected (alpha={alpha}). Significant ON pixels: {fdr_mask_on.sum()}, OFF pixels: {fdr_mask_off.sum()}\")\n",
    "\n",
    "# Identify connected regions (contiguous significant pixels = receptive field subunits)\n",
    "from scipy.ndimage import label\n",
    "structure = np.ones((3, 3), dtype=int)  # 8-connected neighborhood\n",
    "labeled_on, num_on = label(fdr_mask_on, structure=structure)\n",
    "labeled_off, num_off = label(fdr_mask_off, structure=structure)\n",
    "components_on = [(labeled_on == k) for k in range(1, num_on+1)]  # list of boolean masks for each ON subunit\n",
    "components_off = [(labeled_off == k) for k in range(1, num_off+1)]  # list of masks for each OFF subunit\n",
    "\n",
    "# Fit a 2D Gaussian to each subunit to characterize receptive field centers and spreads\n",
    "def fit_gaussian(field, mask):\n",
    "    \"\"\"Fit a Gaussian to the field values within the given mask (returns a Gaussian image).\"\"\"\n",
    "    if mask.sum() == 0:\n",
    "        return np.zeros_like(field)\n",
    "    Y, X = np.indices(field.shape)\n",
    "    weights = field * mask  # weight by the field values in the subregion\n",
    "    total = weights.sum()\n",
    "    # Centroid (mean position)\n",
    "    cy = (Y * weights).sum() / total\n",
    "    cx = (X * weights).sum() / total\n",
    "    # Variance (spread) in each dimension\n",
    "    var_y = (weights * (Y - cy)**2).sum() / total\n",
    "    var_x = (weights * (X - cx)**2).sum() / total\n",
    "    sigma_y = np.sqrt(var_y); sigma_x = np.sqrt(var_x)\n",
    "    # Amplitude = max response in the subregion\n",
    "    amp = weights.max()\n",
    "    # Generate Gaussian fit image\n",
    "    gauss = amp * np.exp(-(((X - cx)**2) / (2*sigma_x**2 + 1e-9) + \n",
    "                            ((Y - cy)**2) / (2*sigma_y**2 + 1e-9)))\n",
    "    return gauss\n",
    "\n",
    "# Compute Gaussian fits for each ON and OFF subunit, then sum if multiple\n",
    "gaussian_fits_on = [fit_gaussian(rts_on_blur, mask) for mask in components_on]\n",
    "gaussian_fits_off = [fit_gaussian(rts_off_blur, mask) for mask in components_off]\n",
    "gaussian_fit_on = np.sum(gaussian_fits_on, axis=0) if gaussian_fits_on else np.zeros_like(rts_on)\n",
    "gaussian_fit_off = np.sum(gaussian_fits_off, axis=0) if gaussian_fits_off else np.zeros_like(rts_off)"
   ]
  },
  {
   "cell_type": "code",
   "execution_count": 17,
   "id": "5fee8900",
   "metadata": {},
   "outputs": [
    {
     "data": {
      "image/png": "[encoded data removed]",
      "text/plain": [
       "<Figure size 500x400 with 2 Axes>"
      ]
     },
     "metadata": {},
     "output_type": "display_data"
    }
   ],
   "source": [
    "import matplotlib.pyplot as plt\n",
    "\n",
    "# Combine ON/OFF corrected p-values: use the more significant (min) at each pixel location\n",
    "pvals_on_map = pvals_corrected[:num_pixels].reshape(rts_on.shape)\n",
    "pvals_off_map = pvals_corrected[num_pixels:].reshape(rts_off.shape)\n",
    "combined_min_p = np.minimum(pvals_on_map, pvals_off_map)\n",
    "# Compute -log10 p for visualization (cap minimum to avoid infinity)\n",
    "chi_map = -np.log10(np.clip(combined_min_p, 1e-6, 1.0))\n",
    "min_p = combined_min_p.min()\n",
    "\n",
    "plt.figure(figsize=(5, 4))\n",
    "plt.imshow(chi_map, cmap='hot')\n",
    "plt.colorbar(label='-log10(p)')\n",
    "plt.title(f\"Chi-square significance map (min p = {min_p:.3f})\")\n",
    "plt.axis('off')\n",
    "plt.show()"
   ]
  },
  {
   "cell_type": "code",
   "execution_count": 18,
   "id": "83e76b86",
   "metadata": {},
   "outputs": [
    {
     "data": {
      "image/png": "[encoded data removed]",
      "text/plain": [
       "<Figure size 1000x400 with 3 Axes>"
      ]
     },
     "metadata": {},
     "output_type": "display_data"
    }
   ],
   "source": [
    "# Plot the RTS fields for ON and OFF subfields side by side\n",
    "fig, (ax1, ax2) = plt.subplots(1, 2, figsize=(10, 4))\n",
    "# Use a \"hot\" colormap where higher values are brighter\n",
    "vmax = max(rts_on.max(), rts_off.max())  # for consistent color scaling\n",
    "im1 = ax1.imshow(rts_on, cmap='hot', vmin=0, vmax=vmax)\n",
    "ax1.set_title('RTS ON-field')\n",
    "ax1.axis('off')\n",
    "im2 = ax2.imshow(rts_off, cmap='hot', vmin=0, vmax=vmax)\n",
    "ax2.set_title('RTS OFF-field')\n",
    "ax2.axis('off')\n",
    "fig.colorbar(im1, ax=[ax1, ax2], fraction=0.046, pad=0.04, label='Event count')\n",
    "plt.show()"
   ]
  },
  {
   "cell_type": "code",
   "execution_count": 19,
   "id": "d51950e3",
   "metadata": {},
   "outputs": [
    {
     "data": {
      "image/png": "[encoded data removed]",
      "text/plain": [
       "<Figure size 1000x400 with 3 Axes>"
      ]
     },
     "metadata": {},
     "output_type": "display_data"
    }
   ],
   "source": [
    "# Plot the blurred RTS fields for ON and OFF\n",
    "fig, (ax1, ax2) = plt.subplots(1, 2, figsize=(10, 4))\n",
    "vmax_blur = max(rts_on_blur.max(), rts_off_blur.max())\n",
    "im1 = ax1.imshow(rts_on_blur, cmap='hot', vmin=0, vmax=vmax_blur)\n",
    "ax1.set_title('Blurred ON-field')\n",
    "ax1.axis('off')\n",
    "im2 = ax2.imshow(rts_off_blur, cmap='hot', vmin=0, vmax=vmax_blur)\n",
    "ax2.set_title('Blurred OFF-field')\n",
    "ax2.axis('off')\n",
    "fig.colorbar(im1, ax=[ax1, ax2], fraction=0.046, pad=0.04, label='Event count')\n",
    "plt.show()"
   ]
  },
  {
   "cell_type": "code",
   "execution_count": 20,
   "id": "55916657",
   "metadata": {},
   "outputs": [
    {
     "data": {
      "image/png": "[encoded data removed]",
      "text/plain": [
       "<Figure size 1000x400 with 2 Axes>"
      ]
     },
     "metadata": {},
     "output_type": "display_data"
    }
   ],
   "source": [
    "# Plot raw p-value maps for ON and OFF subfields (darker = more significant)\n",
    "fig, (ax1, ax2) = plt.subplots(1, 2, figsize=(10, 4))\n",
    "# Use a reversed grayscale colormap: low p (high significance) = black, high p = white\n",
    "ax1.imshow(pvalues_on, cmap='gray_r', vmin=0, vmax=1)\n",
    "ax1.set_title('Raw p-value (ON)')\n",
    "ax1.axis('off')\n",
    "ax2.imshow(pvalues_off, cmap='gray_r', vmin=0, vmax=1)\n",
    "ax2.set_title('Raw p-value (OFF)')\n",
    "ax2.axis('off')\n",
    "plt.show()"
   ]
  },
  {
   "cell_type": "code",
   "execution_count": 21,
   "id": "5dae74b1",
   "metadata": {},
   "outputs": [
    {
     "data": {
      "image/png": "[encoded data removed]",
      "text/plain": [
       "<Figure size 1000x400 with 2 Axes>"
      ]
     },
     "metadata": {},
     "output_type": "display_data"
    }
   ],
   "source": [
    "# Plot binary mask of significant pixels for ON and OFF (mask colored by p-value within region)\n",
    "mask_on_vals = pvalues_on.copy()\n",
    "mask_on_vals[~fdr_mask_on] = 1.0  # set non-significant to 1 (white in gray_r)\n",
    "mask_off_vals = pvalues_off.copy()\n",
    "mask_off_vals[~fdr_mask_off] = 1.0\n",
    "\n",
    "fig, (ax1, ax2) = plt.subplots(1, 2, figsize=(10, 4))\n",
    "ax1.imshow(mask_on_vals, cmap='gray_r', vmin=0, vmax=1)\n",
    "ax1.set_title('Significant ON pixels')\n",
    "ax1.axis('off')\n",
    "ax2.imshow(mask_off_vals, cmap='gray_r', vmin=0, vmax=1)\n",
    "ax2.set_title('Significant OFF pixels')\n",
    "ax2.axis('off')\n",
    "plt.show()"
   ]
  },
  {
   "cell_type": "code",
   "execution_count": 22,
   "id": "8ff48f15",
   "metadata": {},
   "outputs": [
    {
     "data": {
      "image/png": "[encoded data removed]",
      "text/plain": [
       "<Figure size 1000x400 with 2 Axes>"
      ]
     },
     "metadata": {},
     "output_type": "display_data"
    }
   ],
   "source": [
    "# Plot the Gaussian fit for ON and OFF subunits\n",
    "fig, (ax1, ax2) = plt.subplots(1, 2, figsize=(10, 4))\n",
    "# Use grayscale: high values = white (for a bright ellipse on dark background)\n",
    "ax1.imshow(gaussian_fit_on, cmap='gray')\n",
    "ax1.set_title('Gaussian fit (ON)')\n",
    "ax1.axis('off')\n",
    "ax2.imshow(gaussian_fit_off, cmap='gray')\n",
    "ax2.set_title('Gaussian fit (OFF)')\n",
    "ax2.axis('off')\n",
    "plt.show()"
   ]
  }
 ],
 "metadata": {
  "kernelspec": {
   "display_name": "rfest_env",
   "language": "python",
   "name": "python3"
  },
  "language_info": {
   "codemirror_mode": {
    "name": "ipython",
    "version": 3
   },
   "file_extension": ".py",
   "mimetype": "text/x-python",
   "name": "python",
   "nbconvert_exporter": "python",
   "pygments_lexer": "ipython3",
   "version": "3.11.13"
  }
 },
 "nbformat": 4,
 "nbformat_minor": 5
}
